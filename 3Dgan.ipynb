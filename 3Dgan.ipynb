{
 "cells": [
  {
   "cell_type": "code",
   "execution_count": 1,
   "id": "b47075e6-93c9-497c-8a61-7bb9e7f5d14a",
   "metadata": {},
   "outputs": [],
   "source": [
    "import sys\n",
    "sys.path.append('/workspace/MRI-inpainting-project/data_scripts') # path to datasets.py dir\n",
    "\n",
    "from datasets import TrainPatchesDataset, HealthyMRIDataset, PathologicalMRIDataset\n",
    "import matplotlib.pyplot as plt\n",
    "import torch\n",
    "import torch.nn as nn\n",
    "import torch.optim as optim\n",
    "from torch.utils.data import DataLoader, Dataset"
   ]
  },
  {
   "cell_type": "code",
   "execution_count": 4,
   "id": "9c8c6fcf-60a6-4af3-9e7e-911ad4377e58",
   "metadata": {},
   "outputs": [],
   "source": [
    "train_patches = TrainPatchesDataset(\"/workspace/MRI-inpainting-project/data/train_patches_v3\")\n",
    "healthy_data = HealthyMRIDataset('/workspace/MRI-inpainting-project/data/healthy_mri_C_00/healthy_mri_t1',\n",
    "                                 '/workspace/MRI-inpainting-project/data/healthy_mri_C_00/healthy_masks_t1/sphere_masks/masks',\n",
    "                                 '/workspace/MRI-inpainting-project/data/healthy_mri_C_00/healthy_masks_t1/sphere_masks/patch_masks')"
   ]
  },
  {
   "cell_type": "code",
   "execution_count": 5,
   "id": "3da8b194-88af-4f40-bd5d-6317990efd0e",
   "metadata": {},
   "outputs": [
    {
     "name": "stdout",
     "output_type": "stream",
     "text": [
      "Epoch [1/5], Step [0/20], Loss D: 1.3914, Loss G: 0.7639\n",
      "Epoch [1/5], Step [10/20], Loss D: 1.2631, Loss G: 0.6328\n",
      "Epoch [2/5], Step [0/20], Loss D: 1.2852, Loss G: 0.7212\n",
      "Epoch [2/5], Step [10/20], Loss D: 1.2383, Loss G: 0.8354\n",
      "Epoch [3/5], Step [0/20], Loss D: 1.0589, Loss G: 0.8707\n",
      "Epoch [3/5], Step [10/20], Loss D: 1.1100, Loss G: 0.7930\n",
      "Epoch [4/5], Step [0/20], Loss D: 0.9770, Loss G: 1.0188\n",
      "Epoch [4/5], Step [10/20], Loss D: 0.8715, Loss G: 0.9529\n",
      "Epoch [5/5], Step [0/20], Loss D: 0.7503, Loss G: 1.1693\n",
      "Epoch [5/5], Step [10/20], Loss D: 0.6600, Loss G: 1.2262\n",
      "Training finished.\n"
     ]
    }
   ],
   "source": [
    "class Generator(nn.Module):\n",
    "    def __init__(self):\n",
    "        super(Generator, self).__init__()\n",
    "        # Input channels: noise (1) + condition image (1) = 2\n",
    "        self.main = nn.Sequential(\n",
    "            # Encoder part\n",
    "            nn.Conv3d(2, 64, kernel_size=4, stride=2, padding=1),  # Output: [64, 20, 20, 20]\n",
    "            nn.BatchNorm3d(64),\n",
    "            nn.ReLU(True),\n",
    "            nn.Conv3d(64, 128, kernel_size=4, stride=2, padding=1),  # Output: [128, 10, 10, 10]\n",
    "            nn.BatchNorm3d(128),\n",
    "            nn.ReLU(True),\n",
    "            nn.Conv3d(128, 256, kernel_size=4, stride=2, padding=1),  # Output: [256, 5, 5, 5]\n",
    "            nn.BatchNorm3d(256),\n",
    "            nn.ReLU(True),\n",
    "            # Decoder part\n",
    "            nn.ConvTranspose3d(256, 128, kernel_size=4, stride=2, padding=1),  # Output: [128, 10, 10, 10]\n",
    "            nn.BatchNorm3d(128),\n",
    "            nn.ReLU(True),\n",
    "            nn.ConvTranspose3d(128, 64, kernel_size=4, stride=2, padding=1),  # Output: [64, 20, 20, 20]\n",
    "            nn.BatchNorm3d(64),\n",
    "            nn.ReLU(True),\n",
    "            nn.ConvTranspose3d(64, 1, kernel_size=4, stride=2, padding=1),  # Output: [1, 40, 40, 40]\n",
    "            nn.Sigmoid()  \n",
    "        )\n",
    "        \n",
    "    def forward(self, noise, condition):\n",
    "        x = torch.cat([noise, condition], dim=1) \n",
    "        mask = self.main(x)\n",
    "        return mask  \n",
    "\n",
    "# Define the Discriminator class\n",
    "class Discriminator(nn.Module):\n",
    "    def __init__(self):\n",
    "        super(Discriminator, self).__init__()\n",
    "        self.main = nn.Sequential(\n",
    "            nn.Conv3d(1, 4, kernel_size=4, stride=2, padding=1),  # Output: [64, 20, 20, 20]\n",
    "            nn.BatchNorm3d(4),\n",
    "            nn.LeakyReLU(0.2, inplace=True),\n",
    "            nn.Conv3d(4, 4, kernel_size=4, stride=2, padding=1),  # Output: [128, 10, 10, 10]\n",
    "            nn.BatchNorm3d(4),\n",
    "            nn.LeakyReLU(0.2, inplace=True),\n",
    "            nn.Conv3d(4, 4, kernel_size=4, stride=2, padding=1),  # Output: [256, 5, 5, 5]\n",
    "            nn.BatchNorm3d(4),\n",
    "            nn.LeakyReLU(0.2, inplace=True),\n",
    "            nn.Conv3d(4, 1, kernel_size=5),  # Output: [1, 1, 1, 1]\n",
    "            nn.Sigmoid()  \n",
    "        )\n",
    "        \n",
    "    def forward(self, masked_image):\n",
    "        output = self.main(masked_image)\n",
    "        return output.view(-1) \n",
    "\n",
    "\n",
    "class MRI3DDataset(Dataset):\n",
    "    def __init__(self, num_samples, image_shape):\n",
    "        self.num_samples = num_samples\n",
    "        self.image_shape = image_shape\n",
    "    \n",
    "    def __len__(self):\n",
    "        return self.num_samples\n",
    "    \n",
    "    def __getitem__(self, idx):\n",
    "\n",
    "        mri = healthy_data[idx]['mri']\n",
    "        patch_mask = healthy_data[idx]['patch_mask']\n",
    "\n",
    "        condition_image = torch.from_numpy(mri[patch_mask > 0].reshape(40, 40, 40)).unsqueeze(0).float()\n",
    "        real_masked_image = torch.from_numpy(train_patches[idx]['patch'] * (1-train_patches[idx]['mask'])).unsqueeze(0).float()\n",
    "\n",
    "        \n",
    "        return {'condition_image': condition_image, 'real_masked_image': real_masked_image}\n",
    "\n",
    "\n",
    "num_epochs = 5\n",
    "batch_size = 4  \n",
    "image_shape = (40, 40, 40)  \n",
    "noise_shape = (1, *image_shape)  \n",
    "device = torch.device(\"cuda\" if torch.cuda.is_available() else \"cpu\")\n",
    "\n",
    "G = Generator().to(device)\n",
    "D = Discriminator().to(device)\n",
    "\n",
    "criterion = nn.BCELoss()\n",
    "optimizerD = optim.Adam(D.parameters(), lr=0.0002)\n",
    "optimizerG = optim.Adam(G.parameters(), lr=0.0002)\n",
    "\n",
    "dataset = MRI3DDataset(num_samples=77, image_shape=image_shape)\n",
    "dataloader = DataLoader(dataset, batch_size=batch_size, shuffle=True)\n",
    "\n",
    "\n",
    "for epoch in range(num_epochs):\n",
    "    for i, data in enumerate(dataloader):\n",
    "        ############################\n",
    "        # Update Discriminator\n",
    "        ############################\n",
    "        D.zero_grad()\n",
    "        \n",
    "        condition_image = data['condition_image'].to(device)  \n",
    "        real_masked_image = data['real_masked_image'].to(device)\n",
    "        batch_size = condition_image.size(0)\n",
    "        real_labels = torch.ones(batch_size, device=device)\n",
    "        \n",
    "        output = D(real_masked_image)\n",
    "        lossD_real = criterion(output, real_labels)\n",
    "\n",
    "        if i % 3 == 0:\n",
    "            lossD_real.backward()\n",
    "        \n",
    "        noise = torch.randn(batch_size, *noise_shape, device=device)\n",
    "        fake_mask = G(noise, condition_image)\n",
    "        fake_masked_image = condition_image * (1 - (fake_mask > 0.5).float())\n",
    "        fake_labels = torch.zeros(batch_size, device=device)\n",
    "        \n",
    "        output = D(fake_masked_image.detach())\n",
    "        lossD_fake = criterion(output, fake_labels)\n",
    "\n",
    "        if i % 3 == 0:\n",
    "            lossD_fake.backward()\n",
    "            optimizerD.step()\n",
    "        \n",
    "        ############################\n",
    "        # Update Generator\n",
    "        ############################\n",
    "        G.zero_grad()\n",
    "        output = D(fake_masked_image)\n",
    "        \n",
    "        lossG = criterion(output, real_labels)\n",
    "        lossG.backward()\n",
    "        optimizerG.step()\n",
    "        \n",
    "        if i % 10 == 0:\n",
    "            print(f\"Epoch [{epoch+1}/{num_epochs}], Step [{i}/{len(dataloader)}], \"\n",
    "                  f\"Loss D: {(lossD_real + lossD_fake).item():.4f}, Loss G: {lossG.item():.4f}\")\n",
    "\n",
    "print(\"Training finished.\")"
   ]
  },
  {
   "cell_type": "markdown",
   "id": "19956eae-0fee-4a2e-a638-4b204d060c67",
   "metadata": {},
   "source": [
    "## Generating mask example"
   ]
  },
  {
   "cell_type": "code",
   "execution_count": 6,
   "id": "4285b026-b624-4280-ba5e-8500b2ac572b",
   "metadata": {},
   "outputs": [],
   "source": [
    "idx = 0\n",
    "mri, mask, patch_mask = healthy_data[idx]['mri'], healthy_data[idx]['mask'], healthy_data[idx]['patch_mask']\n",
    "patch = torch.from_numpy(mri[patch_mask > 0].reshape(40, 40, 40)).float().unsqueeze(0).unsqueeze(0).to(device)"
   ]
  },
  {
   "cell_type": "code",
   "execution_count": 8,
   "id": "135a53a6-7114-4fae-a54d-1e270f73c588",
   "metadata": {},
   "outputs": [],
   "source": [
    "G.eval()\n",
    "noise = torch.randn(1, *noise_shape, device=device)\n",
    "fake_mask = G(noise, patch)"
   ]
  },
  {
   "cell_type": "code",
   "execution_count": 9,
   "id": "e40c8c38-72af-4fc9-88a2-49fb9004f020",
   "metadata": {},
   "outputs": [],
   "source": [
    "fake_mask = fake_mask.to('cpu').detach().numpy()"
   ]
  },
  {
   "cell_type": "code",
   "execution_count": 10,
   "id": "2ab0bb00-d167-4add-945c-eda617e4be84",
   "metadata": {},
   "outputs": [
    {
     "data": {
      "text/plain": [
       "<matplotlib.image.AxesImage at 0x7f1ff6041850>"
      ]
     },
     "execution_count": 10,
     "metadata": {},
     "output_type": "execute_result"
    },
    {
     "data": {
      "image/png": "[encoded data removed]",
      "text/plain": [
       "<Figure size 432x288 with 1 Axes>"
      ]
     },
     "metadata": {
      "needs_background": "light"
     },
     "output_type": "display_data"
    }
   ],
   "source": [
    "plt.imshow(fake_mask.squeeze()[:, :, 0] > 0.5)"
   ]
  }
 ],
 "metadata": {
  "kernelspec": {
   "display_name": "Python 3",
   "language": "python",
   "name": "python3"
  },
  "language_info": {
   "codemirror_mode": {
    "name": "ipython",
    "version": 3
   },
   "file_extension": ".py",
   "mimetype": "text/x-python",
   "name": "python",
   "nbconvert_exporter": "python",
   "pygments_lexer": "ipython3",
   "version": "3.8.12"
  }
 },
 "nbformat": 4,
 "nbformat_minor": 5
}
